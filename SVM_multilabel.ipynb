{
 "cells": [
  {
   "cell_type": "markdown",
   "metadata": {
    "colab_type": "text",
    "id": "view-in-github"
   },
   "source": [
    "<a href=\"https://colab.research.google.com/github/dinhtruongng/VNese-Aspect-based-Sentiment-Analysis/blob/main/Preprocessing.ipynb\" target=\"_parent\"><img src=\"https://colab.research.google.com/assets/colab-badge.svg\" alt=\"Open In Colab\"/></a>"
   ]
  },
  {
   "cell_type": "markdown",
   "metadata": {
    "id": "lwfAVMPNH1qi"
   },
   "source": [
    "# Load data"
   ]
  },
  {
   "cell_type": "code",
   "execution_count": 4,
   "metadata": {
    "id": "wmXbr8GU650A"
   },
   "outputs": [],
   "source": [
    "import pandas as pd \n",
    "import numpy as np \n",
    "from sklearn.model_selection import train_test_split \n",
    "from sklearn.feature_extraction.text import TfidfVectorizer \n",
    "from skmultilearn.adapt import MLkNN \n",
    "from sklearn.metrics import hamming_loss, accuracy_score\n",
    "\n",
    "import nltk\n",
    "from sklearn.feature_extraction.text import CountVectorizer\n",
    "import pickle\n",
    "import re"
   ]
  },
  {
   "cell_type": "code",
   "execution_count": 5,
   "metadata": {
    "id": "K5M8hmAA7Qr4"
   },
   "outputs": [],
   "source": [
    "train_df = pd.read_csv('Train.csv')\n",
    "dev_df = pd.read_csv(\"Dev.csv\")\n",
    "test_df = pd.read_csv(\"Test.csv\")"
   ]
  },
  {
   "cell_type": "code",
   "execution_count": 6,
   "metadata": {},
   "outputs": [],
   "source": [
    "# Concatenate rows\n",
    "FULL = pd.concat([train_df, test_df], ignore_index=True)"
   ]
  },
  {
   "cell_type": "code",
   "execution_count": 7,
   "metadata": {},
   "outputs": [],
   "source": [
    "vetorizar = TfidfVectorizer(max_features=3000, max_df=0.85) "
   ]
  },
  {
   "cell_type": "markdown",
   "metadata": {
    "id": "udJ_vOqV8IuY"
   },
   "source": [
    "# Lowercase"
   ]
  },
  {
   "cell_type": "code",
   "execution_count": 9,
   "metadata": {
    "id": "HhCoGP1kCjaj"
   },
   "outputs": [],
   "source": [
    "def lowercase(df):\n",
    "    df['comment'] = df['comment'].str.lower()"
   ]
  },
  {
   "cell_type": "code",
   "execution_count": 10,
   "metadata": {
    "id": "ToAXho7IAhAv"
   },
   "outputs": [],
   "source": [
    "lowercase(FULL)"
   ]
  },
  {
   "cell_type": "code",
   "execution_count": 11,
   "metadata": {},
   "outputs": [],
   "source": [
    "# vetorizar = TfidfVectorizer(max_features=3000, max_df=0.85)\n",
    "# vetorizar.fit(X_train)\n",
    "# X_train_tfidf = vetorizar.transform(X_train)\n",
    "# X_test_tfidf = vetorizar.transform(X_test)\n",
    "# X_train_tfidf"
   ]
  },
  {
   "cell_type": "code",
   "execution_count": 12,
   "metadata": {},
   "outputs": [],
   "source": [
    "# mlknn_classifier = MLkNN()\n",
    "# mlknn_classifier.fit(X_train_tfidf, y_train)"
   ]
  },
  {
   "cell_type": "markdown",
   "metadata": {
    "id": "gd5ZyY6TCawJ"
   },
   "source": [
    "# Removing Punctuations"
   ]
  },
  {
   "cell_type": "code",
   "execution_count": 14,
   "metadata": {
    "id": "w60Xg15OAxeB"
   },
   "outputs": [],
   "source": [
    "import string\n",
    "punc = string.punctuation"
   ]
  },
  {
   "cell_type": "code",
   "execution_count": 15,
   "metadata": {
    "id": "JN3TD57mDXPI"
   },
   "outputs": [],
   "source": [
    "def remove_punc(text):\n",
    "    return text.translate(str.maketrans('', '', punc))"
   ]
  },
  {
   "cell_type": "code",
   "execution_count": 16,
   "metadata": {
    "id": "tPrAYn6LFbVh"
   },
   "outputs": [],
   "source": [
    "def final_rmv_punc(df):\n",
    "    df['comment'] = df['comment'].apply(remove_punc)"
   ]
  },
  {
   "cell_type": "code",
   "execution_count": 17,
   "metadata": {
    "id": "Z21iHm62Fw1j"
   },
   "outputs": [],
   "source": [
    "final_rmv_punc(FULL)"
   ]
  },
  {
   "cell_type": "markdown",
   "metadata": {
    "id": "mGFbaGznF8BB"
   },
   "source": [
    "# Removing Number?"
   ]
  },
  {
   "cell_type": "code",
   "execution_count": 19,
   "metadata": {
    "id": "Bp4Fqm95HElp"
   },
   "outputs": [],
   "source": [
    "def remove_num(df):\n",
    "    df['comment'] = df['comment'].replace(to_replace=r'\\d', value='', regex=True)"
   ]
  },
  {
   "cell_type": "code",
   "execution_count": 20,
   "metadata": {
    "id": "3Nv3ASVSHkjC"
   },
   "outputs": [],
   "source": [
    "remove_num(FULL)"
   ]
  },
  {
   "cell_type": "code",
   "execution_count": 21,
   "metadata": {
    "colab": {
     "base_uri": "https://localhost:8080/",
     "height": 206
    },
    "id": "OABxTZXnHm4B",
    "outputId": "3d73d978-8935-4a22-cbeb-642c9cae4f94"
   },
   "outputs": [
    {
     "data": {
      "text/html": [
       "<div>\n",
       "<style scoped>\n",
       "    .dataframe tbody tr th:only-of-type {\n",
       "        vertical-align: middle;\n",
       "    }\n",
       "\n",
       "    .dataframe tbody tr th {\n",
       "        vertical-align: top;\n",
       "    }\n",
       "\n",
       "    .dataframe thead th {\n",
       "        text-align: right;\n",
       "    }\n",
       "</style>\n",
       "<table border=\"1\" class=\"dataframe\">\n",
       "  <thead>\n",
       "    <tr style=\"text-align: right;\">\n",
       "      <th></th>\n",
       "      <th>index</th>\n",
       "      <th>comment</th>\n",
       "      <th>n_star</th>\n",
       "      <th>date_time</th>\n",
       "      <th>label</th>\n",
       "    </tr>\n",
       "  </thead>\n",
       "  <tbody>\n",
       "    <tr>\n",
       "      <th>0</th>\n",
       "      <td>0</td>\n",
       "      <td>Mới mua máy này Tại thegioididong thốt nốt cảm...</td>\n",
       "      <td>5</td>\n",
       "      <td>2 tuần trước</td>\n",
       "      <td>{CAMERA#Positive};{FEATURES#Positive};{BATTERY...</td>\n",
       "    </tr>\n",
       "    <tr>\n",
       "      <th>1</th>\n",
       "      <td>1</td>\n",
       "      <td>Pin kém còn lại miễn chê mua 8/3/2019 tình trạ...</td>\n",
       "      <td>5</td>\n",
       "      <td>14/09/2019</td>\n",
       "      <td>{BATTERY#Negative};{GENERAL#Positive};{OTHERS};</td>\n",
       "    </tr>\n",
       "    <tr>\n",
       "      <th>2</th>\n",
       "      <td>2</td>\n",
       "      <td>Sao lúc gọi điện thoại màn hình bị chấm nhỏ nh...</td>\n",
       "      <td>3</td>\n",
       "      <td>17/08/2020</td>\n",
       "      <td>{FEATURES#Negative};</td>\n",
       "    </tr>\n",
       "    <tr>\n",
       "      <th>3</th>\n",
       "      <td>3</td>\n",
       "      <td>Mọi người cập nhật phần mềm lại , nó sẽ bớt tố...</td>\n",
       "      <td>3</td>\n",
       "      <td>29/02/2020</td>\n",
       "      <td>{FEATURES#Negative};{BATTERY#Neutral};{GENERAL...</td>\n",
       "    </tr>\n",
       "    <tr>\n",
       "      <th>4</th>\n",
       "      <td>4</td>\n",
       "      <td>Mới mua Sài được 1 tháng thấy pin rất trâu, Sà...</td>\n",
       "      <td>5</td>\n",
       "      <td>4/6/2020</td>\n",
       "      <td>{BATTERY#Positive};{PERFORMANCE#Positive};{SER...</td>\n",
       "    </tr>\n",
       "  </tbody>\n",
       "</table>\n",
       "</div>"
      ],
      "text/plain": [
       "   index                                            comment  n_star  \\\n",
       "0      0  Mới mua máy này Tại thegioididong thốt nốt cảm...       5   \n",
       "1      1  Pin kém còn lại miễn chê mua 8/3/2019 tình trạ...       5   \n",
       "2      2  Sao lúc gọi điện thoại màn hình bị chấm nhỏ nh...       3   \n",
       "3      3  Mọi người cập nhật phần mềm lại , nó sẽ bớt tố...       3   \n",
       "4      4  Mới mua Sài được 1 tháng thấy pin rất trâu, Sà...       5   \n",
       "\n",
       "      date_time                                              label  \n",
       "0  2 tuần trước  {CAMERA#Positive};{FEATURES#Positive};{BATTERY...  \n",
       "1    14/09/2019    {BATTERY#Negative};{GENERAL#Positive};{OTHERS};  \n",
       "2    17/08/2020                               {FEATURES#Negative};  \n",
       "3    29/02/2020  {FEATURES#Negative};{BATTERY#Neutral};{GENERAL...  \n",
       "4      4/6/2020  {BATTERY#Positive};{PERFORMANCE#Positive};{SER...  "
      ]
     },
     "execution_count": 21,
     "metadata": {},
     "output_type": "execute_result"
    }
   ],
   "source": [
    "train_df.head()"
   ]
  },
  {
   "cell_type": "markdown",
   "metadata": {
    "id": "xkwUFUFLGG5B"
   },
   "source": [
    "# Tokenization"
   ]
  },
  {
   "cell_type": "code",
   "execution_count": 23,
   "metadata": {
    "colab": {
     "base_uri": "https://localhost:8080/"
    },
    "id": "lLEHD07KJo_z",
    "outputId": "15ef265b-b73d-49e7-c6a0-34d4bcd5ef93"
   },
   "outputs": [],
   "source": [
    "# !pip install pyvi"
   ]
  },
  {
   "cell_type": "code",
   "execution_count": 24,
   "metadata": {
    "id": "_g5mbIjwF6DH"
   },
   "outputs": [],
   "source": [
    "from pyvi import ViTokenizer, ViPosTagger"
   ]
  },
  {
   "cell_type": "code",
   "execution_count": 25,
   "metadata": {
    "id": "85G4o6iFMTAS"
   },
   "outputs": [],
   "source": [
    "tokenizer = ViTokenizer.tokenize"
   ]
  },
  {
   "cell_type": "code",
   "execution_count": 26,
   "metadata": {
    "id": "URDSKlOmMJQD"
   },
   "outputs": [],
   "source": [
    "def tokenize(df):\n",
    "    df['comment'] = df['comment'].apply(tokenizer)"
   ]
  },
  {
   "cell_type": "code",
   "execution_count": 27,
   "metadata": {
    "id": "bFA2_uQlMZ37"
   },
   "outputs": [],
   "source": [
    "tokenize(FULL)"
   ]
  },
  {
   "cell_type": "code",
   "execution_count": 28,
   "metadata": {
    "colab": {
     "base_uri": "https://localhost:8080/",
     "height": 206
    },
    "id": "hdwK8DVAMwcR",
    "outputId": "73e8fdd5-89c7-4d10-eceb-ec9f16c47158"
   },
   "outputs": [
    {
     "data": {
      "text/html": [
       "<div>\n",
       "<style scoped>\n",
       "    .dataframe tbody tr th:only-of-type {\n",
       "        vertical-align: middle;\n",
       "    }\n",
       "\n",
       "    .dataframe tbody tr th {\n",
       "        vertical-align: top;\n",
       "    }\n",
       "\n",
       "    .dataframe thead th {\n",
       "        text-align: right;\n",
       "    }\n",
       "</style>\n",
       "<table border=\"1\" class=\"dataframe\">\n",
       "  <thead>\n",
       "    <tr style=\"text-align: right;\">\n",
       "      <th></th>\n",
       "      <th>index</th>\n",
       "      <th>comment</th>\n",
       "      <th>n_star</th>\n",
       "      <th>date_time</th>\n",
       "      <th>label</th>\n",
       "    </tr>\n",
       "  </thead>\n",
       "  <tbody>\n",
       "    <tr>\n",
       "      <th>0</th>\n",
       "      <td>0</td>\n",
       "      <td>Mới mua máy này Tại thegioididong thốt nốt cảm...</td>\n",
       "      <td>5</td>\n",
       "      <td>2 tuần trước</td>\n",
       "      <td>{CAMERA#Positive};{FEATURES#Positive};{BATTERY...</td>\n",
       "    </tr>\n",
       "    <tr>\n",
       "      <th>1</th>\n",
       "      <td>1</td>\n",
       "      <td>Pin kém còn lại miễn chê mua 8/3/2019 tình trạ...</td>\n",
       "      <td>5</td>\n",
       "      <td>14/09/2019</td>\n",
       "      <td>{BATTERY#Negative};{GENERAL#Positive};{OTHERS};</td>\n",
       "    </tr>\n",
       "    <tr>\n",
       "      <th>2</th>\n",
       "      <td>2</td>\n",
       "      <td>Sao lúc gọi điện thoại màn hình bị chấm nhỏ nh...</td>\n",
       "      <td>3</td>\n",
       "      <td>17/08/2020</td>\n",
       "      <td>{FEATURES#Negative};</td>\n",
       "    </tr>\n",
       "    <tr>\n",
       "      <th>3</th>\n",
       "      <td>3</td>\n",
       "      <td>Mọi người cập nhật phần mềm lại , nó sẽ bớt tố...</td>\n",
       "      <td>3</td>\n",
       "      <td>29/02/2020</td>\n",
       "      <td>{FEATURES#Negative};{BATTERY#Neutral};{GENERAL...</td>\n",
       "    </tr>\n",
       "    <tr>\n",
       "      <th>4</th>\n",
       "      <td>4</td>\n",
       "      <td>Mới mua Sài được 1 tháng thấy pin rất trâu, Sà...</td>\n",
       "      <td>5</td>\n",
       "      <td>4/6/2020</td>\n",
       "      <td>{BATTERY#Positive};{PERFORMANCE#Positive};{SER...</td>\n",
       "    </tr>\n",
       "  </tbody>\n",
       "</table>\n",
       "</div>"
      ],
      "text/plain": [
       "   index                                            comment  n_star  \\\n",
       "0      0  Mới mua máy này Tại thegioididong thốt nốt cảm...       5   \n",
       "1      1  Pin kém còn lại miễn chê mua 8/3/2019 tình trạ...       5   \n",
       "2      2  Sao lúc gọi điện thoại màn hình bị chấm nhỏ nh...       3   \n",
       "3      3  Mọi người cập nhật phần mềm lại , nó sẽ bớt tố...       3   \n",
       "4      4  Mới mua Sài được 1 tháng thấy pin rất trâu, Sà...       5   \n",
       "\n",
       "      date_time                                              label  \n",
       "0  2 tuần trước  {CAMERA#Positive};{FEATURES#Positive};{BATTERY...  \n",
       "1    14/09/2019    {BATTERY#Negative};{GENERAL#Positive};{OTHERS};  \n",
       "2    17/08/2020                               {FEATURES#Negative};  \n",
       "3    29/02/2020  {FEATURES#Negative};{BATTERY#Neutral};{GENERAL...  \n",
       "4      4/6/2020  {BATTERY#Positive};{PERFORMANCE#Positive};{SER...  "
      ]
     },
     "execution_count": 28,
     "metadata": {},
     "output_type": "execute_result"
    }
   ],
   "source": [
    "train_df.head()"
   ]
  },
  {
   "cell_type": "markdown",
   "metadata": {
    "id": "BMYxzGkzM6Wq"
   },
   "source": [
    "# POS tagging"
   ]
  },
  {
   "cell_type": "code",
   "execution_count": 30,
   "metadata": {
    "id": "CobSboCyNC7D"
   },
   "outputs": [],
   "source": [
    "tagger = ViPosTagger.postagging"
   ]
  },
  {
   "cell_type": "code",
   "execution_count": 31,
   "metadata": {
    "id": "7YMRac6iNSVS"
   },
   "outputs": [],
   "source": [
    "ex = FULL.iloc[0]['comment']"
   ]
  },
  {
   "cell_type": "code",
   "execution_count": 32,
   "metadata": {
    "colab": {
     "base_uri": "https://localhost:8080/"
    },
    "id": "7nVEe31yOwWb",
    "outputId": "27f40934-757f-4b05-e4f5-962182a1636c"
   },
   "outputs": [
    {
     "data": {
      "text/plain": [
       "(['mới',\n",
       "  'mua',\n",
       "  'máy',\n",
       "  'này',\n",
       "  'tại',\n",
       "  'thegioididong',\n",
       "  'thốt_nốt',\n",
       "  'cảm_thấy',\n",
       "  'ok',\n",
       "  'bin',\n",
       "  'trâu',\n",
       "  'chụp',\n",
       "  'ảnh',\n",
       "  'đẹp',\n",
       "  'loa',\n",
       "  'nghe',\n",
       "  'to',\n",
       "  'bắt',\n",
       "  'wf',\n",
       "  'khỏe_sóng',\n",
       "  'ổn_định',\n",
       "  'giá_thành',\n",
       "  'vừa',\n",
       "  'với',\n",
       "  'túi_tiền',\n",
       "  'nhân_viên',\n",
       "  'tư_vấn',\n",
       "  'nhiệt_tình'],\n",
       " array(['R', 'V', 'N', 'P', 'E', 'N', 'N', 'V', 'N', 'V', 'N', 'V', 'N',\n",
       "        'A', 'N', 'V', 'A', 'V', 'N', 'N', 'A', 'N', 'R', 'E', 'V', 'N',\n",
       "        'V', 'A'], dtype=object))"
      ]
     },
     "execution_count": 32,
     "metadata": {},
     "output_type": "execute_result"
    }
   ],
   "source": [
    "tagger(ex)"
   ]
  },
  {
   "cell_type": "code",
   "execution_count": 33,
   "metadata": {},
   "outputs": [],
   "source": [
    "def remove_emote(text):\n",
    "    emoji_pattern = re.compile(\"[\"\n",
    "        u\"\\U0001F600-\\U0001F64F\"  # emoticons\n",
    "        u\"\\U0001F300-\\U0001F5FF\"  # symbols & pictographs\n",
    "        u\"\\U0001F680-\\U0001F6FF\"  # transport & map symbols\n",
    "        u\"\\U0001F1E0-\\U0001F1FF\"  # flags\n",
    "        u\"\\U0001F1F2-\\U0001F1F4\"  # Macau flag\n",
    "        u\"\\U0001F1E6-\\U0001F1FF\"  # flags\n",
    "        u\"\\U00002702-\\U000027B0\"  # other symbols\n",
    "        u\"\\U000024C2-\\U0001F251\"  # enclosed characters\n",
    "        u\"\\U0001f926-\\U0001f937\"  # gestures\n",
    "        u\"\\U0001F1F2\"             # specific characters\n",
    "        u\"\\U0001F1F4\"\n",
    "        u\"\\U0001F620\"\n",
    "        u\"\\u200d\"\n",
    "        u\"\\u2640-\\u2642\"          # gender symbols\n",
    "        \"]+\", flags=re.UNICODE)\n",
    "    \n",
    "    # Substitute emojis with a space\n",
    "    text = emoji_pattern.sub(r\" \", text)\n",
    "    return text\n",
    "def final_remove_emote(df):\n",
    "    df['comment'] = df['comment'].apply(remove_emote)    \n",
    "    return df\n",
    "FULL = final_remove_emote(train_df)\n"
   ]
  },
  {
   "cell_type": "code",
   "execution_count": 34,
   "metadata": {},
   "outputs": [],
   "source": [
    "X = FULL['comment']\n",
    "y = FULL.iloc[:, -1]"
   ]
  },
  {
   "cell_type": "code",
   "execution_count": 35,
   "metadata": {
    "scrolled": true
   },
   "outputs": [],
   "source": [
    "label = {'BATTERY':[],'CAMERA':[],'DESIGN':[],'FEATURES':[],'GENERAL':[],'OTHERS':[],'PERFORMANCE':[],'PRICE':[],'SCREEN':[],'SER&ACC':[],'STORAGE':[]}\n",
    "def spliY(y, label):\n",
    "    label = {'BATTERY':[],'CAMERA':[],'DESIGN':[],'FEATURES':[],'GENERAL':[],'OTHERS':[],'PERFORMANCE':[],'PRICE':[],'SCREEN':[],'SER&ACC':[],'STORAGE':[]}\n",
    "    for i in y:\n",
    "        x = i[:-1].split(\";\")\n",
    "        # print(x)\n",
    "        temp = list(label.keys())\n",
    "        for j in x:\n",
    "            j = j.replace('{', '')\n",
    "            j = j.replace('}', '')\n",
    "            t = j.split('#')\n",
    "            \n",
    "            if t[0] != \"OTHERS\":\n",
    "                temp.remove(t[0])\n",
    "                if t[1] == \"Positive\":\n",
    "                    label[t[0]].append(1) #nhan xet tich cuc\n",
    "                elif t[1] == \"Neutral\":\n",
    "                    label[t[0]].append(0) #nhan xet trung binh \n",
    "                else:\n",
    "                    label[t[0]].append(-1) #nhan xet tieu cuc\n",
    "                    \n",
    "            else:\n",
    "                temp.remove(t[0])\n",
    "                label['OTHERS'].append(1) #phan loai other, ko lien quan\n",
    "                \n",
    "        for key in temp:\n",
    "                label[key].append(-2) #Ko de cap den trong phan nhan xet\n",
    "    return label\n",
    "    # for key in label.keys():\n",
    "    #     print(len(label[key]))\n",
    "# y = pd.DataFrame(label)\n",
    "y = spliY(y, label)\n",
    "y = pd.DataFrame(y)\n"
   ]
  },
  {
   "cell_type": "code",
   "execution_count": 36,
   "metadata": {},
   "outputs": [],
   "source": [
    "cleanedData = []\n",
    "for sentence in X:\n",
    "    cleanedData.append(sentence)"
   ]
  },
  {
   "cell_type": "code",
   "execution_count": 37,
   "metadata": {},
   "outputs": [],
   "source": [
    "vectorizer = CountVectorizer(max_features=10000)\n",
    "BoW = vectorizer.fit_transform(cleanedData)"
   ]
  },
  {
   "cell_type": "code",
   "execution_count": 38,
   "metadata": {},
   "outputs": [],
   "source": [
    "x_train,x_test,y_train,y_test = train_test_split(BoW,np.asarray(y))"
   ]
  },
  {
   "cell_type": "code",
   "execution_count": 39,
   "metadata": {},
   "outputs": [],
   "source": [
    "from sklearn.svm import SVC\n",
    "\n",
    "svm = SVC()\n",
    "# model.fit(x_train,y_train)\n",
    "from sklearn.multioutput import MultiOutputClassifier\n",
    "clf = MultiOutputClassifier(SVC()).fit(x_train, y_train)"
   ]
  },
  {
   "cell_type": "code",
   "execution_count": 40,
   "metadata": {},
   "outputs": [],
   "source": [
    "# predictions = model.predict(x_test)\n",
    "predictions = clf.predict(x_test)"
   ]
  },
  {
   "cell_type": "code",
   "execution_count": 41,
   "metadata": {},
   "outputs": [
    {
     "data": {
      "text/plain": [
       "84.2321520287622"
      ]
     },
     "execution_count": 41,
     "metadata": {},
     "output_type": "execute_result"
    }
   ],
   "source": [
    "def accuracy(y_test, y_pred):\n",
    "    ac = []\n",
    "    for j in range(len(y_test)):\n",
    "        t = 0\n",
    "        for i in range(len(y_test[j])):\n",
    "            if y_test[j][i] == y_pred[j][i]:\n",
    "                t += 1\n",
    "        ac.append((t/len(y_test[j]))*100)\n",
    "    return ac\n",
    "accu_set = accuracy(y_test, predictions)\n",
    "sum(accu_set) / len(accu_set)"
   ]
  }
 ],
 "metadata": {
  "colab": {
   "authorship_tag": "ABX9TyPsPas9oNrfunp+RYkti5tX",
   "include_colab_link": true,
   "provenance": [],
   "toc_visible": true
  },
  "kernelspec": {
   "display_name": "Python 3 (ipykernel)",
   "language": "python",
   "name": "python3"
  },
  "language_info": {
   "codemirror_mode": {
    "name": "ipython",
    "version": 3
   },
   "file_extension": ".py",
   "mimetype": "text/x-python",
   "name": "python",
   "nbconvert_exporter": "python",
   "pygments_lexer": "ipython3",
   "version": "3.12.4"
  }
 },
 "nbformat": 4,
 "nbformat_minor": 4
}
