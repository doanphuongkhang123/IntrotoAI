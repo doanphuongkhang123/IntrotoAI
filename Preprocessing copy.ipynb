{
 "cells": [
  {
   "cell_type": "markdown",
   "metadata": {
    "colab_type": "text",
    "id": "view-in-github"
   },
   "source": [
    "<a href=\"https://colab.research.google.com/github/dinhtruongng/VNese-Aspect-based-Sentiment-Analysis/blob/main/Preprocessing.ipynb\" target=\"_parent\"><img src=\"https://colab.research.google.com/assets/colab-badge.svg\" alt=\"Open In Colab\"/></a>"
   ]
  },
  {
   "cell_type": "markdown",
   "metadata": {
    "id": "lwfAVMPNH1qi"
   },
   "source": [
    "# Load data"
   ]
  },
  {
   "cell_type": "code",
   "execution_count": 2,
   "metadata": {
    "id": "wmXbr8GU650A"
   },
   "outputs": [],
   "source": [
    "import pandas as pd \n",
    "import numpy as np \n",
    "from sklearn.model_selection import train_test_split \n",
    "from sklearn.feature_extraction.text import TfidfVectorizer \n",
    "from skmultilearn.adapt import MLkNN \n",
    "from sklearn.metrics import hamming_loss, accuracy_score "
   ]
  },
  {
   "cell_type": "code",
   "execution_count": 4,
   "metadata": {
    "id": "K5M8hmAA7Qr4"
   },
   "outputs": [],
   "source": [
    "train_df = pd.read_csv('Train.csv')\n",
    "dev_df = pd.read_csv(\"Dev.csv\")\n",
    "test_df = pd.read_csv(\"Test.csv\")"
   ]
  },
  {
   "cell_type": "code",
   "execution_count": 8,
   "metadata": {},
   "outputs": [
    {
     "name": "stdout",
     "output_type": "stream",
     "text": [
      "      index                                            comment  n_star  \\\n",
      "0         0  Mới mua máy này Tại thegioididong thốt nốt cảm...       5   \n",
      "1         1  Pin kém còn lại miễn chê mua 8/3/2019 tình trạ...       5   \n",
      "2         2  Sao lúc gọi điện thoại màn hình bị chấm nhỏ nh...       3   \n",
      "3         3  Mọi người cập nhật phần mềm lại , nó sẽ bớt tố...       3   \n",
      "4         4  Mới mua Sài được 1 tháng thấy pin rất trâu, Sà...       5   \n",
      "...     ...                                                ...     ...   \n",
      "7781   7781  8g. Cái đi đánh là mạng giật giật ko chịu nổi....       1   \n",
      "7782   7782  Mua dk giảm 500k mà lỗi lòi ra hết treo màn hì...       1   \n",
      "7783   7783  Máy Sài 3 tháng rồi rất OK.pin trâu khỏi nói S...       5   \n",
      "7784   7784  Rất tiếc hàng realme ko có ốp lưng ngoài , nên...       3   \n",
      "7785   7785  Mình rất thất vọng khi mua máy này. Bắt wifi c...       1   \n",
      "\n",
      "         date_time                                              label  \n",
      "0     2 tuần trước  {CAMERA#Positive};{FEATURES#Positive};{BATTERY...  \n",
      "1       14/09/2019    {BATTERY#Negative};{GENERAL#Positive};{OTHERS};  \n",
      "2       17/08/2020                               {FEATURES#Negative};  \n",
      "3       29/02/2020  {FEATURES#Negative};{BATTERY#Neutral};{GENERAL...  \n",
      "4         4/6/2020  {BATTERY#Positive};{PERFORMANCE#Positive};{SER...  \n",
      "...            ...                                                ...  \n",
      "7781    13/10/2019  {FEATURES#Negative};{BATTERY#Negative};{PERFOR...  \n",
      "7782      5/5/2020  {FEATURES#Negative};{PERFORMANCE#Negative};{PR...  \n",
      "7783    23/12/2019  {BATTERY#Positive};{PERFORMANCE#Positive};{GEN...  \n",
      "7784    20/04/2020  {PRICE#Negative};{GENERAL#Positive};{SER&ACC#N...  \n",
      "7785    20/02/2020  {FEATURES#Negative};{GENERAL#Negative};{SER&AC...  \n",
      "\n",
      "[7786 rows x 5 columns]\n"
     ]
    }
   ],
   "source": [
    "print(train_df)"
   ]
  },
  {
   "cell_type": "code",
   "execution_count": 55,
   "metadata": {},
   "outputs": [],
   "source": [
    "X_train = train_df.iloc[:, 1:-1]\n",
    "y_train = train_df.iloc[:, -1]"
   ]
  },
  {
   "cell_type": "code",
   "execution_count": 57,
   "metadata": {
    "colab": {
     "base_uri": "https://localhost:8080/",
     "height": 206
    },
    "id": "4BMog9kM7T7f",
    "outputId": "76a5efeb-a3f6-420e-958c-392156cbd50b"
   },
   "outputs": [],
   "source": [
    "X_test = test_df.iloc[:, 1:-1]\n",
    "y_test = test_df.iloc[:, -1]"
   ]
  },
  {
   "cell_type": "code",
   "execution_count": 59,
   "metadata": {},
   "outputs": [],
   "source": [
    "vetorizar = TfidfVectorizer(max_features=3000, max_df=0.85) "
   ]
  },
  {
   "cell_type": "markdown",
   "metadata": {
    "id": "udJ_vOqV8IuY"
   },
   "source": [
    "# Lowercase"
   ]
  },
  {
   "cell_type": "code",
   "execution_count": 62,
   "metadata": {
    "id": "HhCoGP1kCjaj"
   },
   "outputs": [],
   "source": [
    "def lowercase(df):\n",
    "    df['comment'] = df['comment'].str.lower()"
   ]
  },
  {
   "cell_type": "code",
   "execution_count": 64,
   "metadata": {
    "id": "ToAXho7IAhAv"
   },
   "outputs": [],
   "source": [
    "lowercase(train_df)"
   ]
  },
  {
   "cell_type": "code",
   "execution_count": 288,
   "metadata": {
    "colab": {
     "base_uri": "https://localhost:8080/",
     "height": 206
    },
    "id": "jcWrCOYGAsxB",
    "outputId": "9d518d45-dfd5-4193-d33c-9b69feadcf91"
   },
   "outputs": [
    {
     "data": {
      "text/html": [
       "<div>\n",
       "<style scoped>\n",
       "    .dataframe tbody tr th:only-of-type {\n",
       "        vertical-align: middle;\n",
       "    }\n",
       "\n",
       "    .dataframe tbody tr th {\n",
       "        vertical-align: top;\n",
       "    }\n",
       "\n",
       "    .dataframe thead th {\n",
       "        text-align: right;\n",
       "    }\n",
       "</style>\n",
       "<table border=\"1\" class=\"dataframe\">\n",
       "  <thead>\n",
       "    <tr style=\"text-align: right;\">\n",
       "      <th></th>\n",
       "      <th>BATTERY</th>\n",
       "      <th>CAMERA</th>\n",
       "      <th>DESIGN</th>\n",
       "      <th>FEATURES</th>\n",
       "      <th>GENERAL</th>\n",
       "      <th>OTHERS</th>\n",
       "      <th>PERFORMANCE</th>\n",
       "      <th>PRICE</th>\n",
       "      <th>SCREEN</th>\n",
       "      <th>SER&amp;ACC</th>\n",
       "      <th>STORAGE</th>\n",
       "    </tr>\n",
       "  </thead>\n",
       "  <tbody>\n",
       "    <tr>\n",
       "      <th>0</th>\n",
       "      <td>1</td>\n",
       "      <td>1</td>\n",
       "      <td>-2</td>\n",
       "      <td>1</td>\n",
       "      <td>1</td>\n",
       "      <td>-2</td>\n",
       "      <td>-2</td>\n",
       "      <td>1</td>\n",
       "      <td>-2</td>\n",
       "      <td>1</td>\n",
       "      <td>-2</td>\n",
       "    </tr>\n",
       "    <tr>\n",
       "      <th>1</th>\n",
       "      <td>-1</td>\n",
       "      <td>-2</td>\n",
       "      <td>-2</td>\n",
       "      <td>-2</td>\n",
       "      <td>1</td>\n",
       "      <td>1</td>\n",
       "      <td>-2</td>\n",
       "      <td>-2</td>\n",
       "      <td>-2</td>\n",
       "      <td>-2</td>\n",
       "      <td>-2</td>\n",
       "    </tr>\n",
       "    <tr>\n",
       "      <th>2</th>\n",
       "      <td>-2</td>\n",
       "      <td>-2</td>\n",
       "      <td>-2</td>\n",
       "      <td>-1</td>\n",
       "      <td>-2</td>\n",
       "      <td>-2</td>\n",
       "      <td>-2</td>\n",
       "      <td>-2</td>\n",
       "      <td>-2</td>\n",
       "      <td>-2</td>\n",
       "      <td>-2</td>\n",
       "    </tr>\n",
       "    <tr>\n",
       "      <th>3</th>\n",
       "      <td>0</td>\n",
       "      <td>-2</td>\n",
       "      <td>-2</td>\n",
       "      <td>-1</td>\n",
       "      <td>0</td>\n",
       "      <td>-2</td>\n",
       "      <td>-2</td>\n",
       "      <td>-2</td>\n",
       "      <td>-2</td>\n",
       "      <td>-2</td>\n",
       "      <td>-2</td>\n",
       "    </tr>\n",
       "    <tr>\n",
       "      <th>4</th>\n",
       "      <td>1</td>\n",
       "      <td>-2</td>\n",
       "      <td>-2</td>\n",
       "      <td>-2</td>\n",
       "      <td>-2</td>\n",
       "      <td>-2</td>\n",
       "      <td>1</td>\n",
       "      <td>-2</td>\n",
       "      <td>-2</td>\n",
       "      <td>-1</td>\n",
       "      <td>-2</td>\n",
       "    </tr>\n",
       "    <tr>\n",
       "      <th>...</th>\n",
       "      <td>...</td>\n",
       "      <td>...</td>\n",
       "      <td>...</td>\n",
       "      <td>...</td>\n",
       "      <td>...</td>\n",
       "      <td>...</td>\n",
       "      <td>...</td>\n",
       "      <td>...</td>\n",
       "      <td>...</td>\n",
       "      <td>...</td>\n",
       "      <td>...</td>\n",
       "    </tr>\n",
       "    <tr>\n",
       "      <th>7781</th>\n",
       "      <td>-1</td>\n",
       "      <td>-2</td>\n",
       "      <td>-2</td>\n",
       "      <td>-1</td>\n",
       "      <td>-2</td>\n",
       "      <td>-2</td>\n",
       "      <td>-1</td>\n",
       "      <td>-2</td>\n",
       "      <td>-2</td>\n",
       "      <td>-2</td>\n",
       "      <td>-2</td>\n",
       "    </tr>\n",
       "    <tr>\n",
       "      <th>7782</th>\n",
       "      <td>-2</td>\n",
       "      <td>-2</td>\n",
       "      <td>-2</td>\n",
       "      <td>-1</td>\n",
       "      <td>-2</td>\n",
       "      <td>-2</td>\n",
       "      <td>-1</td>\n",
       "      <td>1</td>\n",
       "      <td>-2</td>\n",
       "      <td>-2</td>\n",
       "      <td>-2</td>\n",
       "    </tr>\n",
       "    <tr>\n",
       "      <th>7783</th>\n",
       "      <td>1</td>\n",
       "      <td>-2</td>\n",
       "      <td>-2</td>\n",
       "      <td>-2</td>\n",
       "      <td>1</td>\n",
       "      <td>-2</td>\n",
       "      <td>1</td>\n",
       "      <td>-2</td>\n",
       "      <td>-2</td>\n",
       "      <td>-2</td>\n",
       "      <td>-2</td>\n",
       "    </tr>\n",
       "    <tr>\n",
       "      <th>7784</th>\n",
       "      <td>-2</td>\n",
       "      <td>-2</td>\n",
       "      <td>-2</td>\n",
       "      <td>-2</td>\n",
       "      <td>1</td>\n",
       "      <td>-2</td>\n",
       "      <td>-2</td>\n",
       "      <td>-1</td>\n",
       "      <td>-2</td>\n",
       "      <td>-1</td>\n",
       "      <td>-2</td>\n",
       "    </tr>\n",
       "    <tr>\n",
       "      <th>7785</th>\n",
       "      <td>-2</td>\n",
       "      <td>-2</td>\n",
       "      <td>-2</td>\n",
       "      <td>-1</td>\n",
       "      <td>-1</td>\n",
       "      <td>-2</td>\n",
       "      <td>-2</td>\n",
       "      <td>-2</td>\n",
       "      <td>-2</td>\n",
       "      <td>-1</td>\n",
       "      <td>-2</td>\n",
       "    </tr>\n",
       "  </tbody>\n",
       "</table>\n",
       "<p>7786 rows × 11 columns</p>\n",
       "</div>"
      ],
      "text/plain": [
       "      BATTERY  CAMERA  DESIGN  FEATURES  GENERAL  OTHERS  PERFORMANCE  PRICE  \\\n",
       "0           1       1      -2         1        1      -2           -2      1   \n",
       "1          -1      -2      -2        -2        1       1           -2     -2   \n",
       "2          -2      -2      -2        -1       -2      -2           -2     -2   \n",
       "3           0      -2      -2        -1        0      -2           -2     -2   \n",
       "4           1      -2      -2        -2       -2      -2            1     -2   \n",
       "...       ...     ...     ...       ...      ...     ...          ...    ...   \n",
       "7781       -1      -2      -2        -1       -2      -2           -1     -2   \n",
       "7782       -2      -2      -2        -1       -2      -2           -1      1   \n",
       "7783        1      -2      -2        -2        1      -2            1     -2   \n",
       "7784       -2      -2      -2        -2        1      -2           -2     -1   \n",
       "7785       -2      -2      -2        -1       -1      -2           -2     -2   \n",
       "\n",
       "      SCREEN  SER&ACC  STORAGE  \n",
       "0         -2        1       -2  \n",
       "1         -2       -2       -2  \n",
       "2         -2       -2       -2  \n",
       "3         -2       -2       -2  \n",
       "4         -2       -1       -2  \n",
       "...      ...      ...      ...  \n",
       "7781      -2       -2       -2  \n",
       "7782      -2       -2       -2  \n",
       "7783      -2       -2       -2  \n",
       "7784      -2       -1       -2  \n",
       "7785      -2       -1       -2  \n",
       "\n",
       "[7786 rows x 11 columns]"
      ]
     },
     "execution_count": 288,
     "metadata": {},
     "output_type": "execute_result"
    }
   ],
   "source": [
    "label = {'BATTERY':[],'CAMERA':[],'DESIGN':[],'FEATURES':[],'GENERAL':[],'OTHERS':[],'PERFORMANCE':[],'PRICE':[],'SCREEN':[],'SER&ACC':[],'STORAGE':[]}\n",
    "y = y_train.copy()\n",
    "\n",
    "for i in y_train:\n",
    "    x = i[:-1].split(\";\")\n",
    "    # print(x)\n",
    "    temp = list(label.keys())\n",
    "    for j in x:\n",
    "        j = j.replace('{', '')\n",
    "        j = j.replace('}', '')\n",
    "        t = j.split('#')\n",
    "        \n",
    "        if t[0] != \"OTHERS\":\n",
    "            temp.remove(t[0])\n",
    "            if t[1] == \"Positive\":\n",
    "                label[t[0]].append(1) #nhan xet tich cuc\n",
    "            elif t[1] == \"Neutral\":\n",
    "                label[t[0]].append(0) #nhan xet trung binh \n",
    "            else:\n",
    "                label[t[0]].append(-1) #nhan xet tieu cuc\n",
    "                \n",
    "        else:\n",
    "            temp.remove(t[0])\n",
    "            label['OTHERS'].append(1) #phan loai other, ko lien quan\n",
    "            \n",
    "    for key in temp:\n",
    "            label[key].append(-2) #Ko de cap den trong phan nhan xet\n",
    "\n",
    "    # for key in label.keys():\n",
    "    #     print(len(label[key]))\n",
    "y = pd.DataFrame(label)\n",
    "y"
   ]
  },
  {
   "cell_type": "code",
   "execution_count": 278,
   "metadata": {},
   "outputs": [
    {
     "data": {
      "text/plain": [
       "<3x3 sparse matrix of type '<class 'numpy.float64'>'\n",
       "\twith 3 stored elements in Compressed Sparse Row format>"
      ]
     },
     "execution_count": 278,
     "metadata": {},
     "output_type": "execute_result"
    }
   ],
   "source": [
    "vetorizar = TfidfVectorizer(max_features=3000, max_df=0.85)\n",
    "vetorizar.fit(X_train)\n",
    "X_train_tfidf = vetorizar.transform(X_train)\n",
    "X_test_tfidf = vetorizar.transform(X_test)\n",
    "X_train_tfidf"
   ]
  },
  {
   "cell_type": "code",
   "execution_count": 276,
   "metadata": {},
   "outputs": [
    {
     "ename": "AttributeError",
     "evalue": "'Series' object has no attribute 'getformat'",
     "output_type": "error",
     "traceback": [
      "\u001b[0;31m---------------------------------------------------------------------------\u001b[0m",
      "\u001b[0;31mAttributeError\u001b[0m                            Traceback (most recent call last)",
      "\u001b[0;32m/var/folders/5r/90c4f5554sl2brldnrm6g2300000gn/T/ipykernel_85410/448518616.py\u001b[0m in \u001b[0;36m?\u001b[0;34m()\u001b[0m\n\u001b[1;32m      1\u001b[0m \u001b[0mmlknn_classifier\u001b[0m \u001b[0;34m=\u001b[0m \u001b[0mMLkNN\u001b[0m\u001b[0;34m(\u001b[0m\u001b[0;34m)\u001b[0m\u001b[0;34m\u001b[0m\u001b[0;34m\u001b[0m\u001b[0m\n\u001b[0;32m----> 2\u001b[0;31m \u001b[0mmlknn_classifier\u001b[0m\u001b[0;34m.\u001b[0m\u001b[0mfit\u001b[0m\u001b[0;34m(\u001b[0m\u001b[0mX_train_tfidf\u001b[0m\u001b[0;34m,\u001b[0m \u001b[0my_train\u001b[0m\u001b[0;34m)\u001b[0m\u001b[0;34m\u001b[0m\u001b[0;34m\u001b[0m\u001b[0m\n\u001b[0m",
      "\u001b[0;32m/opt/anaconda3/lib/python3.12/site-packages/skmultilearn/adapt/mlknn.py\u001b[0m in \u001b[0;36m?\u001b[0;34m(self, X, y)\u001b[0m\n\u001b[1;32m    208\u001b[0m         \u001b[0mself\u001b[0m\u001b[0;34m\u001b[0m\u001b[0;34m\u001b[0m\u001b[0m\n\u001b[1;32m    209\u001b[0m             \u001b[0mfitted\u001b[0m \u001b[0minstance\u001b[0m \u001b[0mof\u001b[0m \u001b[0mself\u001b[0m\u001b[0;34m\u001b[0m\u001b[0;34m\u001b[0m\u001b[0m\n\u001b[1;32m    210\u001b[0m         \"\"\"\n\u001b[1;32m    211\u001b[0m \u001b[0;34m\u001b[0m\u001b[0m\n\u001b[0;32m--> 212\u001b[0;31m         \u001b[0mself\u001b[0m\u001b[0;34m.\u001b[0m\u001b[0m_label_cache\u001b[0m \u001b[0;34m=\u001b[0m \u001b[0mget_matrix_in_format\u001b[0m\u001b[0;34m(\u001b[0m\u001b[0my\u001b[0m\u001b[0;34m,\u001b[0m \u001b[0;34m'lil'\u001b[0m\u001b[0;34m)\u001b[0m\u001b[0;34m\u001b[0m\u001b[0;34m\u001b[0m\u001b[0m\n\u001b[0m\u001b[1;32m    213\u001b[0m         \u001b[0mself\u001b[0m\u001b[0;34m.\u001b[0m\u001b[0m_num_instances\u001b[0m \u001b[0;34m=\u001b[0m \u001b[0mself\u001b[0m\u001b[0;34m.\u001b[0m\u001b[0m_label_cache\u001b[0m\u001b[0;34m.\u001b[0m\u001b[0mshape\u001b[0m\u001b[0;34m[\u001b[0m\u001b[0;36m0\u001b[0m\u001b[0;34m]\u001b[0m\u001b[0;34m\u001b[0m\u001b[0;34m\u001b[0m\u001b[0m\n\u001b[1;32m    214\u001b[0m         \u001b[0mself\u001b[0m\u001b[0;34m.\u001b[0m\u001b[0m_num_labels\u001b[0m \u001b[0;34m=\u001b[0m \u001b[0mself\u001b[0m\u001b[0;34m.\u001b[0m\u001b[0m_label_cache\u001b[0m\u001b[0;34m.\u001b[0m\u001b[0mshape\u001b[0m\u001b[0;34m[\u001b[0m\u001b[0;36m1\u001b[0m\u001b[0;34m]\u001b[0m\u001b[0;34m\u001b[0m\u001b[0;34m\u001b[0m\u001b[0m\n\u001b[1;32m    215\u001b[0m         \u001b[0;31m# Computing the prior probabilities\u001b[0m\u001b[0;34m\u001b[0m\u001b[0;34m\u001b[0m\u001b[0m\n",
      "\u001b[0;32m/opt/anaconda3/lib/python3.12/site-packages/skmultilearn/utils.py\u001b[0m in \u001b[0;36m?\u001b[0;34m(original_matrix, matrix_format)\u001b[0m\n\u001b[1;32m     31\u001b[0m     \"\"\"\n\u001b[1;32m     32\u001b[0m     \u001b[0;32mif\u001b[0m \u001b[0misinstance\u001b[0m\u001b[0;34m(\u001b[0m\u001b[0moriginal_matrix\u001b[0m\u001b[0;34m,\u001b[0m \u001b[0mnp\u001b[0m\u001b[0;34m.\u001b[0m\u001b[0mndarray\u001b[0m\u001b[0;34m)\u001b[0m\u001b[0;34m:\u001b[0m\u001b[0;34m\u001b[0m\u001b[0;34m\u001b[0m\u001b[0m\n\u001b[1;32m     33\u001b[0m         \u001b[0;32mreturn\u001b[0m \u001b[0mSPARSE_FORMAT_TO_CONSTRUCTOR\u001b[0m\u001b[0;34m[\u001b[0m\u001b[0mmatrix_format\u001b[0m\u001b[0;34m]\u001b[0m\u001b[0;34m(\u001b[0m\u001b[0moriginal_matrix\u001b[0m\u001b[0;34m)\u001b[0m\u001b[0;34m\u001b[0m\u001b[0;34m\u001b[0m\u001b[0m\n\u001b[1;32m     34\u001b[0m \u001b[0;34m\u001b[0m\u001b[0m\n\u001b[0;32m---> 35\u001b[0;31m     \u001b[0;32mif\u001b[0m \u001b[0moriginal_matrix\u001b[0m\u001b[0;34m.\u001b[0m\u001b[0mgetformat\u001b[0m\u001b[0;34m(\u001b[0m\u001b[0;34m)\u001b[0m \u001b[0;34m==\u001b[0m \u001b[0mmatrix_format\u001b[0m\u001b[0;34m:\u001b[0m\u001b[0;34m\u001b[0m\u001b[0;34m\u001b[0m\u001b[0m\n\u001b[0m\u001b[1;32m     36\u001b[0m         \u001b[0;32mreturn\u001b[0m \u001b[0moriginal_matrix\u001b[0m\u001b[0;34m\u001b[0m\u001b[0;34m\u001b[0m\u001b[0m\n\u001b[1;32m     37\u001b[0m \u001b[0;34m\u001b[0m\u001b[0m\n\u001b[1;32m     38\u001b[0m     \u001b[0;32mreturn\u001b[0m \u001b[0moriginal_matrix\u001b[0m\u001b[0;34m.\u001b[0m\u001b[0masformat\u001b[0m\u001b[0;34m(\u001b[0m\u001b[0mmatrix_format\u001b[0m\u001b[0;34m)\u001b[0m\u001b[0;34m\u001b[0m\u001b[0;34m\u001b[0m\u001b[0m\n",
      "\u001b[0;32m/opt/anaconda3/lib/python3.12/site-packages/pandas/core/generic.py\u001b[0m in \u001b[0;36m?\u001b[0;34m(self, name)\u001b[0m\n\u001b[1;32m   6295\u001b[0m             \u001b[0;32mand\u001b[0m \u001b[0mname\u001b[0m \u001b[0;32mnot\u001b[0m \u001b[0;32min\u001b[0m \u001b[0mself\u001b[0m\u001b[0;34m.\u001b[0m\u001b[0m_accessors\u001b[0m\u001b[0;34m\u001b[0m\u001b[0;34m\u001b[0m\u001b[0m\n\u001b[1;32m   6296\u001b[0m             \u001b[0;32mand\u001b[0m \u001b[0mself\u001b[0m\u001b[0;34m.\u001b[0m\u001b[0m_info_axis\u001b[0m\u001b[0;34m.\u001b[0m\u001b[0m_can_hold_identifiers_and_holds_name\u001b[0m\u001b[0;34m(\u001b[0m\u001b[0mname\u001b[0m\u001b[0;34m)\u001b[0m\u001b[0;34m\u001b[0m\u001b[0;34m\u001b[0m\u001b[0m\n\u001b[1;32m   6297\u001b[0m         \u001b[0;34m)\u001b[0m\u001b[0;34m:\u001b[0m\u001b[0;34m\u001b[0m\u001b[0;34m\u001b[0m\u001b[0m\n\u001b[1;32m   6298\u001b[0m             \u001b[0;32mreturn\u001b[0m \u001b[0mself\u001b[0m\u001b[0;34m[\u001b[0m\u001b[0mname\u001b[0m\u001b[0;34m]\u001b[0m\u001b[0;34m\u001b[0m\u001b[0;34m\u001b[0m\u001b[0m\n\u001b[0;32m-> 6299\u001b[0;31m         \u001b[0;32mreturn\u001b[0m \u001b[0mobject\u001b[0m\u001b[0;34m.\u001b[0m\u001b[0m__getattribute__\u001b[0m\u001b[0;34m(\u001b[0m\u001b[0mself\u001b[0m\u001b[0;34m,\u001b[0m \u001b[0mname\u001b[0m\u001b[0;34m)\u001b[0m\u001b[0;34m\u001b[0m\u001b[0;34m\u001b[0m\u001b[0m\n\u001b[0m",
      "\u001b[0;31mAttributeError\u001b[0m: 'Series' object has no attribute 'getformat'"
     ]
    }
   ],
   "source": [
    "mlknn_classifier = MLkNN()\n",
    "mlknn_classifier.fit(X_train_tfidf, y_train)"
   ]
  },
  {
   "cell_type": "markdown",
   "metadata": {
    "id": "gd5ZyY6TCawJ"
   },
   "source": [
    "# Removing Punctuations"
   ]
  },
  {
   "cell_type": "code",
   "execution_count": null,
   "metadata": {
    "id": "w60Xg15OAxeB"
   },
   "outputs": [],
   "source": [
    "import string\n",
    "punc = string.punctuation"
   ]
  },
  {
   "cell_type": "code",
   "execution_count": null,
   "metadata": {
    "id": "JN3TD57mDXPI"
   },
   "outputs": [],
   "source": [
    "def remove_punc(text):\n",
    "    return text.translate(str.maketrans('', '', punc))"
   ]
  },
  {
   "cell_type": "code",
   "execution_count": null,
   "metadata": {
    "id": "tPrAYn6LFbVh"
   },
   "outputs": [],
   "source": [
    "def final_rmv_punc(df):\n",
    "    df['comment'] = df['comment'].apply(remove_punc)"
   ]
  },
  {
   "cell_type": "code",
   "execution_count": null,
   "metadata": {
    "id": "Z21iHm62Fw1j"
   },
   "outputs": [],
   "source": [
    "final_rmv_punc(train_df)"
   ]
  },
  {
   "cell_type": "code",
   "execution_count": 97,
   "metadata": {
    "colab": {
     "base_uri": "https://localhost:8080/",
     "height": 206
    },
    "id": "-fuOO3ZSF4nA",
    "outputId": "c88ec937-0828-4e65-c55e-90eb0c1bd0a0"
   },
   "outputs": [
    {
     "data": {
      "text/html": [
       "<div>\n",
       "<style scoped>\n",
       "    .dataframe tbody tr th:only-of-type {\n",
       "        vertical-align: middle;\n",
       "    }\n",
       "\n",
       "    .dataframe tbody tr th {\n",
       "        vertical-align: top;\n",
       "    }\n",
       "\n",
       "    .dataframe thead th {\n",
       "        text-align: right;\n",
       "    }\n",
       "</style>\n",
       "<table border=\"1\" class=\"dataframe\">\n",
       "  <thead>\n",
       "    <tr style=\"text-align: right;\">\n",
       "      <th></th>\n",
       "      <th>index</th>\n",
       "      <th>comment</th>\n",
       "      <th>n_star</th>\n",
       "      <th>date_time</th>\n",
       "      <th>label</th>\n",
       "    </tr>\n",
       "  </thead>\n",
       "  <tbody>\n",
       "    <tr>\n",
       "      <th>0</th>\n",
       "      <td>0</td>\n",
       "      <td>mới mua máy này tại thegioididong thốt nốt cảm...</td>\n",
       "      <td>5</td>\n",
       "      <td>2 tuần trước</td>\n",
       "      <td>{CAMERA#Positive};{FEATURES#Positive};{BATTERY...</td>\n",
       "    </tr>\n",
       "    <tr>\n",
       "      <th>1</th>\n",
       "      <td>1</td>\n",
       "      <td>pin kém còn lại miễn chê mua 832019 tình trạng...</td>\n",
       "      <td>5</td>\n",
       "      <td>14/09/2019</td>\n",
       "      <td>{BATTERY#Negative};{GENERAL#Positive};{OTHERS};</td>\n",
       "    </tr>\n",
       "    <tr>\n",
       "      <th>2</th>\n",
       "      <td>2</td>\n",
       "      <td>sao lúc gọi điện thoại màn hình bị chấm nhỏ nh...</td>\n",
       "      <td>3</td>\n",
       "      <td>17/08/2020</td>\n",
       "      <td>{FEATURES#Negative};</td>\n",
       "    </tr>\n",
       "    <tr>\n",
       "      <th>3</th>\n",
       "      <td>3</td>\n",
       "      <td>mọi người cập nhật phần mềm lại  nó sẽ bớt tốn...</td>\n",
       "      <td>3</td>\n",
       "      <td>29/02/2020</td>\n",
       "      <td>{FEATURES#Negative};{BATTERY#Neutral};{GENERAL...</td>\n",
       "    </tr>\n",
       "    <tr>\n",
       "      <th>4</th>\n",
       "      <td>4</td>\n",
       "      <td>mới mua sài được 1 tháng thấy pin rất trâu sài...</td>\n",
       "      <td>5</td>\n",
       "      <td>4/6/2020</td>\n",
       "      <td>{BATTERY#Positive};{PERFORMANCE#Positive};{SER...</td>\n",
       "    </tr>\n",
       "  </tbody>\n",
       "</table>\n",
       "</div>"
      ],
      "text/plain": [
       "   index                                            comment  n_star  \\\n",
       "0      0  mới mua máy này tại thegioididong thốt nốt cảm...       5   \n",
       "1      1  pin kém còn lại miễn chê mua 832019 tình trạng...       5   \n",
       "2      2  sao lúc gọi điện thoại màn hình bị chấm nhỏ nh...       3   \n",
       "3      3  mọi người cập nhật phần mềm lại  nó sẽ bớt tốn...       3   \n",
       "4      4  mới mua sài được 1 tháng thấy pin rất trâu sài...       5   \n",
       "\n",
       "      date_time                                              label  \n",
       "0  2 tuần trước  {CAMERA#Positive};{FEATURES#Positive};{BATTERY...  \n",
       "1    14/09/2019    {BATTERY#Negative};{GENERAL#Positive};{OTHERS};  \n",
       "2    17/08/2020                               {FEATURES#Negative};  \n",
       "3    29/02/2020  {FEATURES#Negative};{BATTERY#Neutral};{GENERAL...  \n",
       "4      4/6/2020  {BATTERY#Positive};{PERFORMANCE#Positive};{SER...  "
      ]
     },
     "execution_count": 97,
     "metadata": {},
     "output_type": "execute_result"
    }
   ],
   "source": [
    "train_df.head()"
   ]
  },
  {
   "cell_type": "markdown",
   "metadata": {
    "id": "mGFbaGznF8BB"
   },
   "source": [
    "# Removing Number?"
   ]
  },
  {
   "cell_type": "code",
   "execution_count": null,
   "metadata": {
    "id": "Bp4Fqm95HElp"
   },
   "outputs": [],
   "source": [
    "def remove_num(df):\n",
    "    df['comment'] = df['comment'].replace(to_replace=r'\\d', value='', regex=True)"
   ]
  },
  {
   "cell_type": "code",
   "execution_count": null,
   "metadata": {
    "id": "3Nv3ASVSHkjC"
   },
   "outputs": [],
   "source": [
    "remove_num(train_df)"
   ]
  },
  {
   "cell_type": "code",
   "execution_count": 102,
   "metadata": {
    "colab": {
     "base_uri": "https://localhost:8080/",
     "height": 206
    },
    "id": "OABxTZXnHm4B",
    "outputId": "3d73d978-8935-4a22-cbeb-642c9cae4f94"
   },
   "outputs": [
    {
     "data": {
      "text/html": [
       "<div>\n",
       "<style scoped>\n",
       "    .dataframe tbody tr th:only-of-type {\n",
       "        vertical-align: middle;\n",
       "    }\n",
       "\n",
       "    .dataframe tbody tr th {\n",
       "        vertical-align: top;\n",
       "    }\n",
       "\n",
       "    .dataframe thead th {\n",
       "        text-align: right;\n",
       "    }\n",
       "</style>\n",
       "<table border=\"1\" class=\"dataframe\">\n",
       "  <thead>\n",
       "    <tr style=\"text-align: right;\">\n",
       "      <th></th>\n",
       "      <th>index</th>\n",
       "      <th>comment</th>\n",
       "      <th>n_star</th>\n",
       "      <th>date_time</th>\n",
       "      <th>label</th>\n",
       "    </tr>\n",
       "  </thead>\n",
       "  <tbody>\n",
       "    <tr>\n",
       "      <th>0</th>\n",
       "      <td>0</td>\n",
       "      <td>mới mua máy này tại thegioididong thốt nốt cảm...</td>\n",
       "      <td>5</td>\n",
       "      <td>2 tuần trước</td>\n",
       "      <td>{CAMERA#Positive};{FEATURES#Positive};{BATTERY...</td>\n",
       "    </tr>\n",
       "    <tr>\n",
       "      <th>1</th>\n",
       "      <td>1</td>\n",
       "      <td>pin kém còn lại miễn chê mua 832019 tình trạng...</td>\n",
       "      <td>5</td>\n",
       "      <td>14/09/2019</td>\n",
       "      <td>{BATTERY#Negative};{GENERAL#Positive};{OTHERS};</td>\n",
       "    </tr>\n",
       "    <tr>\n",
       "      <th>2</th>\n",
       "      <td>2</td>\n",
       "      <td>sao lúc gọi điện thoại màn hình bị chấm nhỏ nh...</td>\n",
       "      <td>3</td>\n",
       "      <td>17/08/2020</td>\n",
       "      <td>{FEATURES#Negative};</td>\n",
       "    </tr>\n",
       "    <tr>\n",
       "      <th>3</th>\n",
       "      <td>3</td>\n",
       "      <td>mọi người cập nhật phần mềm lại  nó sẽ bớt tốn...</td>\n",
       "      <td>3</td>\n",
       "      <td>29/02/2020</td>\n",
       "      <td>{FEATURES#Negative};{BATTERY#Neutral};{GENERAL...</td>\n",
       "    </tr>\n",
       "    <tr>\n",
       "      <th>4</th>\n",
       "      <td>4</td>\n",
       "      <td>mới mua sài được 1 tháng thấy pin rất trâu sài...</td>\n",
       "      <td>5</td>\n",
       "      <td>4/6/2020</td>\n",
       "      <td>{BATTERY#Positive};{PERFORMANCE#Positive};{SER...</td>\n",
       "    </tr>\n",
       "  </tbody>\n",
       "</table>\n",
       "</div>"
      ],
      "text/plain": [
       "   index                                            comment  n_star  \\\n",
       "0      0  mới mua máy này tại thegioididong thốt nốt cảm...       5   \n",
       "1      1  pin kém còn lại miễn chê mua 832019 tình trạng...       5   \n",
       "2      2  sao lúc gọi điện thoại màn hình bị chấm nhỏ nh...       3   \n",
       "3      3  mọi người cập nhật phần mềm lại  nó sẽ bớt tốn...       3   \n",
       "4      4  mới mua sài được 1 tháng thấy pin rất trâu sài...       5   \n",
       "\n",
       "      date_time                                              label  \n",
       "0  2 tuần trước  {CAMERA#Positive};{FEATURES#Positive};{BATTERY...  \n",
       "1    14/09/2019    {BATTERY#Negative};{GENERAL#Positive};{OTHERS};  \n",
       "2    17/08/2020                               {FEATURES#Negative};  \n",
       "3    29/02/2020  {FEATURES#Negative};{BATTERY#Neutral};{GENERAL...  \n",
       "4      4/6/2020  {BATTERY#Positive};{PERFORMANCE#Positive};{SER...  "
      ]
     },
     "execution_count": 102,
     "metadata": {},
     "output_type": "execute_result"
    }
   ],
   "source": [
    "train_df.head()"
   ]
  },
  {
   "cell_type": "markdown",
   "metadata": {
    "id": "xkwUFUFLGG5B"
   },
   "source": [
    "# Tokenization"
   ]
  },
  {
   "cell_type": "code",
   "execution_count": 105,
   "metadata": {
    "colab": {
     "base_uri": "https://localhost:8080/"
    },
    "id": "lLEHD07KJo_z",
    "outputId": "15ef265b-b73d-49e7-c6a0-34d4bcd5ef93"
   },
   "outputs": [
    {
     "name": "stdout",
     "output_type": "stream",
     "text": [
      "Requirement already satisfied: pyvi in /opt/anaconda3/lib/python3.12/site-packages (0.1.1)\n",
      "Requirement already satisfied: scikit-learn in /opt/anaconda3/lib/python3.12/site-packages (from pyvi) (1.4.2)\n",
      "Requirement already satisfied: sklearn-crfsuite in /opt/anaconda3/lib/python3.12/site-packages (from pyvi) (0.5.0)\n",
      "Requirement already satisfied: numpy>=1.19.5 in /opt/anaconda3/lib/python3.12/site-packages (from scikit-learn->pyvi) (1.26.4)\n",
      "Requirement already satisfied: scipy>=1.6.0 in /opt/anaconda3/lib/python3.12/site-packages (from scikit-learn->pyvi) (1.13.1)\n",
      "Requirement already satisfied: joblib>=1.2.0 in /opt/anaconda3/lib/python3.12/site-packages (from scikit-learn->pyvi) (1.4.2)\n",
      "Requirement already satisfied: threadpoolctl>=2.0.0 in /opt/anaconda3/lib/python3.12/site-packages (from scikit-learn->pyvi) (2.2.0)\n",
      "Requirement already satisfied: python-crfsuite>=0.9.7 in /opt/anaconda3/lib/python3.12/site-packages (from sklearn-crfsuite->pyvi) (0.9.11)\n",
      "Requirement already satisfied: tabulate>=0.4.2 in /opt/anaconda3/lib/python3.12/site-packages (from sklearn-crfsuite->pyvi) (0.9.0)\n",
      "Requirement already satisfied: tqdm>=2.0 in /opt/anaconda3/lib/python3.12/site-packages (from sklearn-crfsuite->pyvi) (4.66.4)\n"
     ]
    }
   ],
   "source": [
    "!pip install pyvi"
   ]
  },
  {
   "cell_type": "code",
   "execution_count": 106,
   "metadata": {
    "id": "_g5mbIjwF6DH"
   },
   "outputs": [],
   "source": [
    "from pyvi import ViTokenizer, ViPosTagger"
   ]
  },
  {
   "cell_type": "code",
   "execution_count": 107,
   "metadata": {
    "id": "85G4o6iFMTAS"
   },
   "outputs": [],
   "source": [
    "tokenizer = ViTokenizer.tokenize"
   ]
  },
  {
   "cell_type": "code",
   "execution_count": 108,
   "metadata": {
    "id": "URDSKlOmMJQD"
   },
   "outputs": [],
   "source": [
    "def tokenize(df):\n",
    "    df['comment'] = df['comment'].apply(tokenizer)"
   ]
  },
  {
   "cell_type": "code",
   "execution_count": 109,
   "metadata": {
    "id": "bFA2_uQlMZ37"
   },
   "outputs": [],
   "source": [
    "tokenize(train_df)"
   ]
  },
  {
   "cell_type": "code",
   "execution_count": 124,
   "metadata": {
    "colab": {
     "base_uri": "https://localhost:8080/",
     "height": 206
    },
    "id": "hdwK8DVAMwcR",
    "outputId": "73e8fdd5-89c7-4d10-eceb-ec9f16c47158"
   },
   "outputs": [
    {
     "data": {
      "text/html": [
       "<div>\n",
       "<style scoped>\n",
       "    .dataframe tbody tr th:only-of-type {\n",
       "        vertical-align: middle;\n",
       "    }\n",
       "\n",
       "    .dataframe tbody tr th {\n",
       "        vertical-align: top;\n",
       "    }\n",
       "\n",
       "    .dataframe thead th {\n",
       "        text-align: right;\n",
       "    }\n",
       "</style>\n",
       "<table border=\"1\" class=\"dataframe\">\n",
       "  <thead>\n",
       "    <tr style=\"text-align: right;\">\n",
       "      <th></th>\n",
       "      <th>index</th>\n",
       "      <th>comment</th>\n",
       "      <th>n_star</th>\n",
       "      <th>date_time</th>\n",
       "      <th>label</th>\n",
       "    </tr>\n",
       "  </thead>\n",
       "  <tbody>\n",
       "    <tr>\n",
       "      <th>0</th>\n",
       "      <td>0</td>\n",
       "      <td>mới mua máy này tại thegioididong thốt_nốt cảm...</td>\n",
       "      <td>5</td>\n",
       "      <td>2 tuần trước</td>\n",
       "      <td>{CAMERA#Positive};{FEATURES#Positive};{BATTERY...</td>\n",
       "    </tr>\n",
       "    <tr>\n",
       "      <th>1</th>\n",
       "      <td>1</td>\n",
       "      <td>pin kém còn lại miễn chê mua 832019 tình_trạng...</td>\n",
       "      <td>5</td>\n",
       "      <td>14/09/2019</td>\n",
       "      <td>{BATTERY#Negative};{GENERAL#Positive};{OTHERS};</td>\n",
       "    </tr>\n",
       "    <tr>\n",
       "      <th>2</th>\n",
       "      <td>2</td>\n",
       "      <td>sao lúc gọi điện_thoại màn_hình bị chấm nhỏ nh...</td>\n",
       "      <td>3</td>\n",
       "      <td>17/08/2020</td>\n",
       "      <td>{FEATURES#Negative};</td>\n",
       "    </tr>\n",
       "    <tr>\n",
       "      <th>3</th>\n",
       "      <td>3</td>\n",
       "      <td>mọi người cập_nhật phần_mềm lại nó sẽ bớt tốn ...</td>\n",
       "      <td>3</td>\n",
       "      <td>29/02/2020</td>\n",
       "      <td>{FEATURES#Negative};{BATTERY#Neutral};{GENERAL...</td>\n",
       "    </tr>\n",
       "    <tr>\n",
       "      <th>4</th>\n",
       "      <td>4</td>\n",
       "      <td>mới mua sài được 1 tháng thấy pin rất trâu sài...</td>\n",
       "      <td>5</td>\n",
       "      <td>4/6/2020</td>\n",
       "      <td>{BATTERY#Positive};{PERFORMANCE#Positive};{SER...</td>\n",
       "    </tr>\n",
       "  </tbody>\n",
       "</table>\n",
       "</div>"
      ],
      "text/plain": [
       "   index                                            comment  n_star  \\\n",
       "0      0  mới mua máy này tại thegioididong thốt_nốt cảm...       5   \n",
       "1      1  pin kém còn lại miễn chê mua 832019 tình_trạng...       5   \n",
       "2      2  sao lúc gọi điện_thoại màn_hình bị chấm nhỏ nh...       3   \n",
       "3      3  mọi người cập_nhật phần_mềm lại nó sẽ bớt tốn ...       3   \n",
       "4      4  mới mua sài được 1 tháng thấy pin rất trâu sài...       5   \n",
       "\n",
       "      date_time                                              label  \n",
       "0  2 tuần trước  {CAMERA#Positive};{FEATURES#Positive};{BATTERY...  \n",
       "1    14/09/2019    {BATTERY#Negative};{GENERAL#Positive};{OTHERS};  \n",
       "2    17/08/2020                               {FEATURES#Negative};  \n",
       "3    29/02/2020  {FEATURES#Negative};{BATTERY#Neutral};{GENERAL...  \n",
       "4      4/6/2020  {BATTERY#Positive};{PERFORMANCE#Positive};{SER...  "
      ]
     },
     "execution_count": 124,
     "metadata": {},
     "output_type": "execute_result"
    }
   ],
   "source": [
    "train_df.head()"
   ]
  },
  {
   "cell_type": "markdown",
   "metadata": {
    "id": "BMYxzGkzM6Wq"
   },
   "source": [
    "# POS tagging"
   ]
  },
  {
   "cell_type": "code",
   "execution_count": 112,
   "metadata": {
    "id": "CobSboCyNC7D"
   },
   "outputs": [],
   "source": [
    "tagger = ViPosTagger.postagging"
   ]
  },
  {
   "cell_type": "code",
   "execution_count": 113,
   "metadata": {
    "id": "7YMRac6iNSVS"
   },
   "outputs": [],
   "source": [
    "ex = train_df.iloc[0]['comment']"
   ]
  },
  {
   "cell_type": "code",
   "execution_count": 122,
   "metadata": {
    "colab": {
     "base_uri": "https://localhost:8080/"
    },
    "id": "7nVEe31yOwWb",
    "outputId": "27f40934-757f-4b05-e4f5-962182a1636c"
   },
   "outputs": [
    {
     "data": {
      "text/plain": [
       "(['mới',\n",
       "  'mua',\n",
       "  'máy',\n",
       "  'này',\n",
       "  'tại',\n",
       "  'thegioididong',\n",
       "  'thốt_nốt',\n",
       "  'cảm_thấy',\n",
       "  'ok',\n",
       "  'bin',\n",
       "  'trâu',\n",
       "  'chụp',\n",
       "  'ảnh',\n",
       "  'đẹp',\n",
       "  'loa',\n",
       "  'nghe',\n",
       "  'to',\n",
       "  'bắt',\n",
       "  'wf',\n",
       "  'khỏe_sóng',\n",
       "  'ổn_định',\n",
       "  'giá_thành',\n",
       "  'vừa',\n",
       "  'với',\n",
       "  'túi_tiền',\n",
       "  'nhân_viên',\n",
       "  'tư_vấn',\n",
       "  'nhiệt_tình'],\n",
       " array(['R', 'V', 'N', 'P', 'E', 'N', 'N', 'V', 'N', 'V', 'N', 'V', 'N',\n",
       "        'A', 'N', 'V', 'A', 'V', 'N', 'N', 'A', 'N', 'R', 'E', 'V', 'N',\n",
       "        'V', 'A'], dtype=object))"
      ]
     },
     "execution_count": 122,
     "metadata": {},
     "output_type": "execute_result"
    }
   ],
   "source": [
    "tagger(ex)"
   ]
  },
  {
   "cell_type": "code",
   "execution_count": null,
   "metadata": {},
   "outputs": [],
   "source": []
  }
 ],
 "metadata": {
  "colab": {
   "authorship_tag": "ABX9TyPsPas9oNrfunp+RYkti5tX",
   "include_colab_link": true,
   "provenance": [],
   "toc_visible": true
  },
  "kernelspec": {
   "display_name": "Python 3 (ipykernel)",
   "language": "python",
   "name": "python3"
  },
  "language_info": {
   "codemirror_mode": {
    "name": "ipython",
    "version": 3
   },
   "file_extension": ".py",
   "mimetype": "text/x-python",
   "name": "python",
   "nbconvert_exporter": "python",
   "pygments_lexer": "ipython3",
   "version": "3.12.4"
  }
 },
 "nbformat": 4,
 "nbformat_minor": 4
}
